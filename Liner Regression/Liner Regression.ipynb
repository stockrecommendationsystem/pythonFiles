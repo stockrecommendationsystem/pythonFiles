{
 "cells": [
  {
   "cell_type": "markdown",
   "metadata": {},
   "source": [
    "# Stock linear regression analysis\n",
    "Build the linear regression models of stocks to get the coefficients representing trends (class method)"
   ]
  },
  {
   "cell_type": "markdown",
   "metadata": {},
   "source": [
    "# Part 1:  build functions and test using stock_list_test.txt"
   ]
  },
  {
   "cell_type": "code",
   "execution_count": 122,
   "metadata": {},
   "outputs": [],
   "source": [
    "import numpy as np\n",
    "from sklearn import datasets, linear_model\n",
    "import pandas as pd\n",
    "import matplotlib.pyplot as pl"
   ]
  },
  {
   "cell_type": "markdown",
   "metadata": {},
   "source": [
    "For the consistency of the whole project, read the stock list of all the symbols we needed in the text file.\n",
    "- The stock_list_test.txt is cutted from the stock_list.txt, and it should be in the same directory as this ipynb file.\n",
    "- The stock_list.txt is generated from the first part of the project"
   ]
  },
  {
   "cell_type": "code",
   "execution_count": 123,
   "metadata": {},
   "outputs": [],
   "source": [
    "# function1 to get stock list from text file\n",
    "def get_list(filename):\n",
    "    # pandas read file into data frame\n",
    "    stocks = pd.read_csv(filename, header = None)\n",
    "    stocks[0] = stocks[0].str.upper()\n",
    "    # convert the data frame to numpy array\n",
    "    stock_array = stocks.values\n",
    "    return stock_array"
   ]
  },
  {
   "cell_type": "code",
   "execution_count": 124,
   "metadata": {},
   "outputs": [
    {
     "data": {
      "text/plain": [
       "array([['A'],\n",
       "       ['AA'],\n",
       "       ['AABA'],\n",
       "       ['AAL'],\n",
       "       ['AAOI']], dtype=object)"
      ]
     },
     "execution_count": 124,
     "metadata": {},
     "output_type": "execute_result"
    }
   ],
   "source": [
    "# function1 using example using stock_list_test.txt\n",
    "stock_array = get_list('stock_list_test.txt')\n",
    "stock_array[:5]"
   ]
  },
  {
   "cell_type": "markdown",
   "metadata": {},
   "source": [
    "For fetching historical data from yahoo finance, an addtional package pandas_datareader are used here, which can be installed with pip from the command line:\n",
    "\n",
    "pip install pandas-datareader\n",
    "\n",
    "We can specify the stock symbol, start date, end date and also the data source.\n",
    "\n",
    "There are three exceptions defined for handling error while fetching data using datareader:\n",
    "- error RemoteDataError: when the symbol is not valid and can't be find in the dataset\n",
    "- error KeyError: when there isn't full data for the input data range(start, end)"
   ]
  },
  {
   "cell_type": "code",
   "execution_count": 125,
   "metadata": {},
   "outputs": [],
   "source": [
    "import pandas_datareader.data as web\n",
    "import datetime\n",
    "from pandas_datareader._utils import RemoteDataError\n",
    "\n",
    "# Considering data from 2018 to 2019 for latest trend\n",
    "start = datetime.datetime(2018, 4, 1)\n",
    "end = datetime.datetime(2019, 4, 1)\n",
    "\n",
    "# function2: get historical data for a specific stock, using symbol as the parameter\n",
    "def load_stock_data(symbol):\n",
    "    try:\n",
    "        df = web.DataReader(symbol, 'yahoo', start, end)\n",
    "    except RemoteDataError:\n",
    "        print(\"No search result : '\" + symbol + \"'\")\n",
    "        return float('NaN')\n",
    "    except KeyError:\n",
    "        print(\"Date range not supported : '\" + symbol + \"'\")\n",
    "        return float('NaN')\n",
    "    close = df[['Close']]\n",
    "    \n",
    "    # Normalize close value by divided by the base value (the close price of the earliest day) and multiplied by 100\n",
    "    base = close.iloc[0]['Close']\n",
    "    # neglect the stocks the initial close price < 25 USD to insure the selected stock value\n",
    "    if base > 10 :\n",
    "        close = close.assign(Close = close['Close'] / base * 100)\n",
    "    return close"
   ]
  },
  {
   "cell_type": "code",
   "execution_count": 126,
   "metadata": {},
   "outputs": [
    {
     "data": {
      "text/html": [
       "<div>\n",
       "<style scoped>\n",
       "    .dataframe tbody tr th:only-of-type {\n",
       "        vertical-align: middle;\n",
       "    }\n",
       "\n",
       "    .dataframe tbody tr th {\n",
       "        vertical-align: top;\n",
       "    }\n",
       "\n",
       "    .dataframe thead th {\n",
       "        text-align: right;\n",
       "    }\n",
       "</style>\n",
       "<table border=\"1\" class=\"dataframe\">\n",
       "  <thead>\n",
       "    <tr style=\"text-align: right;\">\n",
       "      <th></th>\n",
       "      <th>Close</th>\n",
       "    </tr>\n",
       "    <tr>\n",
       "      <th>Date</th>\n",
       "      <th></th>\n",
       "    </tr>\n",
       "  </thead>\n",
       "  <tbody>\n",
       "    <tr>\n",
       "      <th>2018-04-02</th>\n",
       "      <td>100.000000</td>\n",
       "    </tr>\n",
       "    <tr>\n",
       "      <th>2018-04-03</th>\n",
       "      <td>101.536548</td>\n",
       "    </tr>\n",
       "    <tr>\n",
       "      <th>2018-04-04</th>\n",
       "      <td>101.583108</td>\n",
       "    </tr>\n",
       "    <tr>\n",
       "      <th>2018-04-05</th>\n",
       "      <td>101.940090</td>\n",
       "    </tr>\n",
       "    <tr>\n",
       "      <th>2018-04-06</th>\n",
       "      <td>98.789386</td>\n",
       "    </tr>\n",
       "  </tbody>\n",
       "</table>\n",
       "</div>"
      ],
      "text/plain": [
       "                 Close\n",
       "Date                  \n",
       "2018-04-02  100.000000\n",
       "2018-04-03  101.536548\n",
       "2018-04-04  101.583108\n",
       "2018-04-05  101.940090\n",
       "2018-04-06   98.789386"
      ]
     },
     "execution_count": 126,
     "metadata": {},
     "output_type": "execute_result"
    }
   ],
   "source": [
    "A_close = load_stock_data('A')\n",
    "A_close[:5]"
   ]
  },
  {
   "cell_type": "code",
   "execution_count": 127,
   "metadata": {},
   "outputs": [
    {
     "data": {
      "image/png": "[encoded data removed]",
      "text/plain": [
       "<Figure size 432x288 with 1 Axes>"
      ]
     },
     "metadata": {
      "needs_background": "light"
     },
     "output_type": "display_data"
    }
   ],
   "source": [
    "# function2 using example\n",
    "A_close = load_stock_data('A')\n",
    "A_close.plot()\n",
    "pl.show()"
   ]
  },
  {
   "cell_type": "code",
   "execution_count": 128,
   "metadata": {},
   "outputs": [],
   "source": [
    "from sklearn.model_selection import train_test_split\n",
    "\n",
    "# function2: build linear regression model for a specific stock\n",
    "# parameter \n",
    "    # show_statistics: indicate if the statistics are printed \n",
    "    # show_dots: indicate if dots data needed\n",
    "    # show_plot: indacate if the plot is shown\n",
    "    \n",
    "def build_linear_regression(symbol, show_statistics = True, show_dots = True, show_plot = True):\n",
    "    close = load_stock_data(symbol)\n",
    "    # if the close is not dataframe, return NaN\n",
    "    if not isinstance(close, pd.DataFrame) :\n",
    "        return float('NaN')\n",
    "    \n",
    "    # normalize datatime datatype to integer\n",
    "    # simply converting datetime's to # of days since 2010-01-01 divided by 100\n",
    "    close.index = (close.index - pd.to_datetime('2010-01-01')).days / 100\n",
    "    close = close.reset_index()\n",
    "    train, test= train_test_split(close)\n",
    "    \n",
    "    train_x = train.drop('Close', axis = 1)\n",
    "    train_y = train[['Close']]\n",
    "    test_x = test.drop('Close', axis = 1)\n",
    "    test_y = test[['Close']]\n",
    "    \n",
    "    #call linear regression model\n",
    "    regr = linear_model.LinearRegression()\n",
    "    regr.fit(train_x,train_y)\n",
    "    \n",
    "    if show_statistics :\n",
    "        # The coefficients\n",
    "        print('Coefficients:', regr.coef_[0])\n",
    "        # The mean squared error\n",
    "        print(\"Mean squared error: %.2f\"\n",
    "        % np.mean((regr.predict(test_x) - test_y) ** 2))\n",
    "        # Explained variance score: 1 is perfect prediction\n",
    "        print('Variance score: %.2f' % regr.score(test_x, test_y))\n",
    "        print('features:', 'Date', 'Close_Price')\n",
    "    \n",
    "    if show_plot :\n",
    "        pl.plot(test_x, regr.predict(test_x), label = symbol)\n",
    "        pl.legend()\n",
    "        \n",
    "        # Plot outputs\n",
    "        pl.xlabel('Date')\n",
    "        pl.ylabel('Close Price')\n",
    "        pl.title('Overall Linear Regression Model')\n",
    "\n",
    "        if show_dots :\n",
    "            pl.title(symbol + ' Linear Regression Model')\n",
    "            pl.plot(test['Date'], test['Close'], linestyle='none', marker='o')\n",
    "    \n",
    "        pl.xticks(())\n",
    "        pl.yticks(())\n",
    "    # return the coefficient representing trend\n",
    "    return regr.coef_[0][0]"
   ]
  },
  {
   "cell_type": "code",
   "execution_count": 129,
   "metadata": {},
   "outputs": [
    {
     "name": "stdout",
     "output_type": "stream",
     "text": [
      "Coefficients: [5.88596795]\n",
      "Mean squared error: 25.37\n",
      "Variance score: 0.54\n",
      "features: Date Close_Price\n"
     ]
    },
    {
     "data": {
      "text/plain": [
       "5.8859679547296135"
      ]
     },
     "execution_count": 129,
     "metadata": {},
     "output_type": "execute_result"
    },
    {
     "data": {
      "image/png": "[encoded data removed]",
      "text/plain": [
       "<Figure size 432x288 with 1 Axes>"
      ]
     },
     "metadata": {},
     "output_type": "display_data"
    }
   ],
   "source": [
    "# function2 using example\n",
    "build_linear_regression('A')"
   ]
  },
  {
   "cell_type": "code",
   "execution_count": 130,
   "metadata": {},
   "outputs": [],
   "source": [
    "# function3: for each symbol in the text file, caculate the coefficents and record in the original text file\n",
    "def get_coefficient_dataset(filename, show_statistics = False, show_dots = False, show_plot = True) :\n",
    "    # load stock list data from text file\n",
    "    stock_array = get_list(filename)\n",
    "    # extend the 2D array from N * 1 to N * 2 to make place for putting corresponding coefficient\n",
    "    stock_array = np.insert(stock_array, 1, values=0, axis=1) \n",
    "    \n",
    "    # caculate coefficient for each symbol and store in the stock_array\n",
    "    for symbol in stock_array:\n",
    "        coefficient = build_linear_regression(symbol[0], show_statistics, show_dots, show_plot)\n",
    "        symbol[1] = coefficient\n",
    "    \n",
    "    # transfer stock_array to dataframe with two columns 'Stock' and 'Coefficient'\n",
    "    coefficient_data = pd.DataFrame(stock_array)\n",
    "    coefficient_data.columns = ['Stock', 'Coefficient']\n",
    "    \n",
    "    # store the dataframe to csv file for future using\n",
    "    coefficient_data.to_csv('Stock_Coefficients.csv')\n",
    "    return coefficient_data"
   ]
  },
  {
   "cell_type": "code",
   "execution_count": 131,
   "metadata": {},
   "outputs": [
    {
     "name": "stdout",
     "output_type": "stream",
     "text": [
      "No search result : 'ANZ'\n"
     ]
    },
    {
     "data": {
      "text/html": [
       "<div>\n",
       "<style scoped>\n",
       "    .dataframe tbody tr th:only-of-type {\n",
       "        vertical-align: middle;\n",
       "    }\n",
       "\n",
       "    .dataframe tbody tr th {\n",
       "        vertical-align: top;\n",
       "    }\n",
       "\n",
       "    .dataframe thead th {\n",
       "        text-align: right;\n",
       "    }\n",
       "</style>\n",
       "<table border=\"1\" class=\"dataframe\">\n",
       "  <thead>\n",
       "    <tr style=\"text-align: right;\">\n",
       "      <th></th>\n",
       "      <th>Stock</th>\n",
       "      <th>Coefficient</th>\n",
       "    </tr>\n",
       "  </thead>\n",
       "  <tbody>\n",
       "    <tr>\n",
       "      <th>0</th>\n",
       "      <td>A</td>\n",
       "      <td>5.9868</td>\n",
       "    </tr>\n",
       "    <tr>\n",
       "      <th>1</th>\n",
       "      <td>AA</td>\n",
       "      <td>-18.2871</td>\n",
       "    </tr>\n",
       "    <tr>\n",
       "      <th>2</th>\n",
       "      <td>AABA</td>\n",
       "      <td>-3.16633</td>\n",
       "    </tr>\n",
       "    <tr>\n",
       "      <th>3</th>\n",
       "      <td>AAL</td>\n",
       "      <td>-7.83379</td>\n",
       "    </tr>\n",
       "    <tr>\n",
       "      <th>4</th>\n",
       "      <td>AAOI</td>\n",
       "      <td>-36.4006</td>\n",
       "    </tr>\n",
       "  </tbody>\n",
       "</table>\n",
       "</div>"
      ],
      "text/plain": [
       "  Stock Coefficient\n",
       "0     A      5.9868\n",
       "1    AA    -18.2871\n",
       "2  AABA    -3.16633\n",
       "3   AAL    -7.83379\n",
       "4  AAOI    -36.4006"
      ]
     },
     "execution_count": 131,
     "metadata": {},
     "output_type": "execute_result"
    },
    {
     "data": {
      "image/png": "[encoded data removed]",
      "text/plain": [
       "<Figure size 432x288 with 1 Axes>"
      ]
     },
     "metadata": {},
     "output_type": "display_data"
    }
   ],
   "source": [
    "# function3 using example using stock_list_test.txt\n",
    "coefficient_data_test = get_coefficient_dataset('stock_list_test.txt')\n",
    "coefficient_data_test.head()"
   ]
  },
  {
   "cell_type": "code",
   "execution_count": 132,
   "metadata": {},
   "outputs": [],
   "source": [
    "# function4 to get top n stocks with biggest coefficients\n",
    "def get_top_stock(coefficient_data, n = 2) :\n",
    "    # sort stocks by coefficients with descending order\n",
    "    top_stocks = coefficient_data.sort_values(by = ['Coefficient'], ascending = False)\n",
    "    # take top n stocks\n",
    "    top_stocks = top_stocks[:n]\n",
    "    top_stocks_list = top_stocks['Stock'].tolist()\n",
    "    # plot stocks\n",
    "    for symbol in top_stocks_list:\n",
    "        build_linear_regression(symbol, show_statistics = False, show_dots = False, show_plot = True)\n",
    "    # print stock list    \n",
    "    print(\"The \" + str(n) +\" stocks with best trends are: \")\n",
    "    print(top_stocks['Stock'].tolist())\n",
    "    return top_stocks"
   ]
  },
  {
   "cell_type": "code",
   "execution_count": 133,
   "metadata": {},
   "outputs": [
    {
     "name": "stdout",
     "output_type": "stream",
     "text": [
      "The 2 stocks with best trends are: \n",
      "['AAP', 'A']\n"
     ]
    },
    {
     "data": {
      "text/html": [
       "<div>\n",
       "<style scoped>\n",
       "    .dataframe tbody tr th:only-of-type {\n",
       "        vertical-align: middle;\n",
       "    }\n",
       "\n",
       "    .dataframe tbody tr th {\n",
       "        vertical-align: top;\n",
       "    }\n",
       "\n",
       "    .dataframe thead th {\n",
       "        text-align: right;\n",
       "    }\n",
       "</style>\n",
       "<table border=\"1\" class=\"dataframe\">\n",
       "  <thead>\n",
       "    <tr style=\"text-align: right;\">\n",
       "      <th></th>\n",
       "      <th>Stock</th>\n",
       "      <th>Coefficient</th>\n",
       "    </tr>\n",
       "  </thead>\n",
       "  <tbody>\n",
       "    <tr>\n",
       "      <th>6</th>\n",
       "      <td>AAP</td>\n",
       "      <td>13.3336</td>\n",
       "    </tr>\n",
       "    <tr>\n",
       "      <th>0</th>\n",
       "      <td>A</td>\n",
       "      <td>5.9868</td>\n",
       "    </tr>\n",
       "  </tbody>\n",
       "</table>\n",
       "</div>"
      ],
      "text/plain": [
       "  Stock Coefficient\n",
       "6   AAP     13.3336\n",
       "0     A      5.9868"
      ]
     },
     "execution_count": 133,
     "metadata": {},
     "output_type": "execute_result"
    },
    {
     "data": {
      "image/png": "[encoded data removed]",
      "text/plain": [
       "<Figure size 432x288 with 1 Axes>"
      ]
     },
     "metadata": {},
     "output_type": "display_data"
    }
   ],
   "source": [
    "# function4 using example with coefficient_data_test\n",
    "get_top_stock(coefficient_data_test)"
   ]
  },
  {
   "cell_type": "code",
   "execution_count": 134,
   "metadata": {},
   "outputs": [],
   "source": [
    "# Function5 to get stocks with same trends\n",
    "def get_similar_stock(coefficient_data, symbol, n = 3, show_dots = False):\n",
    "    # sort stocks by coefficients with descending order\n",
    "    top_stocks = coefficient_data.sort_values(by = ['Coefficient'], ascending = False)\n",
    "    # get the specific row of the stcok symbol\n",
    "    row = top_stocks.loc[top_stocks['Stock'] == symbol].iloc[-1]\n",
    "    # get the offset in the column of that row in the sorted table\n",
    "    offset = top_stocks.index.get_loc(row.name)\n",
    "    \n",
    "    # take similar stocks in the table from offset-3 to offset+3\n",
    "    similar_stocks = top_stocks[offset-n : offset+n]\n",
    "    similar_stocks_list = similar_stocks['Stock'].tolist()\n",
    "    # plot stocks\n",
    "    for symbol in similar_stocks_list:\n",
    "        build_linear_regression(symbol, show_statistics = False, show_dots = show_dots, show_plot = True)\n",
    "        \n",
    "    # remove the row for the input symbol\n",
    "    similar_stocks_delete = similar_stocks.drop(row.name)\n",
    "    number = n*2 - 1\n",
    "    print(\"The \" + str(number) + \" simialr stocks are: \")\n",
    "    print(similar_stocks_delete['Stock'].tolist())\n",
    "    return similar_stocks"
   ]
  },
  {
   "cell_type": "code",
   "execution_count": 135,
   "metadata": {},
   "outputs": [
    {
     "name": "stdout",
     "output_type": "stream",
     "text": [
      "The 1 simialr stocks are: \n",
      "['A']\n"
     ]
    },
    {
     "data": {
      "text/html": [
       "<div>\n",
       "<style scoped>\n",
       "    .dataframe tbody tr th:only-of-type {\n",
       "        vertical-align: middle;\n",
       "    }\n",
       "\n",
       "    .dataframe tbody tr th {\n",
       "        vertical-align: top;\n",
       "    }\n",
       "\n",
       "    .dataframe thead th {\n",
       "        text-align: right;\n",
       "    }\n",
       "</style>\n",
       "<table border=\"1\" class=\"dataframe\">\n",
       "  <thead>\n",
       "    <tr style=\"text-align: right;\">\n",
       "      <th></th>\n",
       "      <th>Stock</th>\n",
       "      <th>Coefficient</th>\n",
       "    </tr>\n",
       "  </thead>\n",
       "  <tbody>\n",
       "    <tr>\n",
       "      <th>0</th>\n",
       "      <td>A</td>\n",
       "      <td>5.9868</td>\n",
       "    </tr>\n",
       "    <tr>\n",
       "      <th>9</th>\n",
       "      <td>AB</td>\n",
       "      <td>1.35514</td>\n",
       "    </tr>\n",
       "  </tbody>\n",
       "</table>\n",
       "</div>"
      ],
      "text/plain": [
       "  Stock Coefficient\n",
       "0     A      5.9868\n",
       "9    AB     1.35514"
      ]
     },
     "execution_count": 135,
     "metadata": {},
     "output_type": "execute_result"
    },
    {
     "data": {
      "image/png": "[encoded data removed]",
      "text/plain": [
       "<Figure size 432x288 with 1 Axes>"
      ]
     },
     "metadata": {},
     "output_type": "display_data"
    }
   ],
   "source": [
    "# function5 using example with coefficient_data_test, using symbol 'AAOI'\n",
    "get_similar_stock(coefficient_data_test, 'AB', n = 1, show_dots = True)"
   ]
  },
  {
   "cell_type": "markdown",
   "metadata": {},
   "source": [
    "# Part 2:  Get project result from stock_list.txt\n",
    "The stock_list.txt is generated from the first part of the project, and it should be in the same directory as this ipynb file.\n",
    "\n",
    "- The input is stock_list.txt\n",
    "- The output is Stock_Coefficients.csv"
   ]
  },
  {
   "cell_type": "markdown",
   "metadata": {},
   "source": [
    "# Setting: date range for fetching stock historial data\n",
    "Input: stock_list.txt"
   ]
  },
  {
   "cell_type": "code",
   "execution_count": 137,
   "metadata": {},
   "outputs": [],
   "source": [
    "# Considering data from 2018 to 2019 for consistency\n",
    "start = datetime.datetime(2018, 4, 1)\n",
    "end = datetime.datetime(2019, 4, 1)"
   ]
  },
  {
   "cell_type": "markdown",
   "metadata": {},
   "source": [
    "# Result 1: Coefficient dataset and export file\n",
    "Output: Stock_Coefficients.csv"
   ]
  },
  {
   "cell_type": "code",
   "execution_count": 138,
   "metadata": {},
   "outputs": [
    {
     "name": "stdout",
     "output_type": "stream",
     "text": [
      "No search result : 'ANZ'\n",
      "Date range not supported : 'ELNK'\n",
      "Date range not supported : 'ESRX'\n",
      "No search result : 'ETP'\n",
      "Date range not supported : 'GIMO'\n",
      "Date range not supported : 'HAR'\n",
      "No search result : 'LNKD'\n",
      "Date range not supported : 'MFS'\n",
      "Date range not supported : 'MGT'\n",
      "Date range not supported : 'MON'\n",
      "Date range not supported : 'PCLN'\n",
      "Date range not supported : 'RAI'\n",
      "Date range not supported : 'SODA'\n",
      "No search result : 'SSNLF'\n",
      "No search result : 'TSMC'\n",
      "No search result : 'TWX'\n",
      "Date range not supported : 'UWTI'\n",
      "Date range not supported : 'VNR'\n",
      "Date range not supported : 'VNTV'\n",
      "Date range not supported : 'VRX'\n",
      "Date range not supported : 'WFM'\n",
      "No search result : 'WPZ'\n",
      "Date range not supported : 'ZNWAA'\n"
     ]
    },
    {
     "data": {
      "text/html": [
       "<div>\n",
       "<style scoped>\n",
       "    .dataframe tbody tr th:only-of-type {\n",
       "        vertical-align: middle;\n",
       "    }\n",
       "\n",
       "    .dataframe tbody tr th {\n",
       "        vertical-align: top;\n",
       "    }\n",
       "\n",
       "    .dataframe thead th {\n",
       "        text-align: right;\n",
       "    }\n",
       "</style>\n",
       "<table border=\"1\" class=\"dataframe\">\n",
       "  <thead>\n",
       "    <tr style=\"text-align: right;\">\n",
       "      <th></th>\n",
       "      <th>Stock</th>\n",
       "      <th>Coefficient</th>\n",
       "    </tr>\n",
       "  </thead>\n",
       "  <tbody>\n",
       "    <tr>\n",
       "      <th>0</th>\n",
       "      <td>A</td>\n",
       "      <td>5.59075</td>\n",
       "    </tr>\n",
       "    <tr>\n",
       "      <th>1</th>\n",
       "      <td>AA</td>\n",
       "      <td>-18.5645</td>\n",
       "    </tr>\n",
       "    <tr>\n",
       "      <th>2</th>\n",
       "      <td>AABA</td>\n",
       "      <td>-3.26703</td>\n",
       "    </tr>\n",
       "    <tr>\n",
       "      <th>3</th>\n",
       "      <td>AAL</td>\n",
       "      <td>-7.3696</td>\n",
       "    </tr>\n",
       "    <tr>\n",
       "      <th>4</th>\n",
       "      <td>AAOI</td>\n",
       "      <td>-36.7128</td>\n",
       "    </tr>\n",
       "  </tbody>\n",
       "</table>\n",
       "</div>"
      ],
      "text/plain": [
       "  Stock Coefficient\n",
       "0     A     5.59075\n",
       "1    AA    -18.5645\n",
       "2  AABA    -3.26703\n",
       "3   AAL     -7.3696\n",
       "4  AAOI    -36.7128"
      ]
     },
     "execution_count": 138,
     "metadata": {},
     "output_type": "execute_result"
    }
   ],
   "source": [
    "# load full stock_list getting from part1 of this project(association rule)\n",
    "# error will be printed with invaild symbol name or date keys\n",
    "# generate output as file Stock_Coefficients.csv\n",
    "coefficient_data = get_coefficient_dataset('stock_list.txt', show_plot = False)\n",
    "coefficient_data.head()"
   ]
  },
  {
   "cell_type": "markdown",
   "metadata": {},
   "source": [
    "# Result 2: Top five stocks"
   ]
  },
  {
   "cell_type": "code",
   "execution_count": 139,
   "metadata": {},
   "outputs": [
    {
     "name": "stdout",
     "output_type": "stream",
     "text": [
      "The 5 stocks with best trends are: \n",
      "['DOW', 'RETA', 'TTD', 'TWLO', 'IIPR']\n"
     ]
    },
    {
     "data": {
      "text/html": [
       "<div>\n",
       "<style scoped>\n",
       "    .dataframe tbody tr th:only-of-type {\n",
       "        vertical-align: middle;\n",
       "    }\n",
       "\n",
       "    .dataframe tbody tr th {\n",
       "        vertical-align: top;\n",
       "    }\n",
       "\n",
       "    .dataframe thead th {\n",
       "        text-align: right;\n",
       "    }\n",
       "</style>\n",
       "<table border=\"1\" class=\"dataframe\">\n",
       "  <thead>\n",
       "    <tr style=\"text-align: right;\">\n",
       "      <th></th>\n",
       "      <th>Stock</th>\n",
       "      <th>Coefficient</th>\n",
       "    </tr>\n",
       "  </thead>\n",
       "  <tbody>\n",
       "    <tr>\n",
       "      <th>418</th>\n",
       "      <td>DOW</td>\n",
       "      <td>115.407</td>\n",
       "    </tr>\n",
       "    <tr>\n",
       "      <th>1133</th>\n",
       "      <td>RETA</td>\n",
       "      <td>82.5067</td>\n",
       "    </tr>\n",
       "    <tr>\n",
       "      <th>1347</th>\n",
       "      <td>TTD</td>\n",
       "      <td>72.862</td>\n",
       "    </tr>\n",
       "    <tr>\n",
       "      <th>1354</th>\n",
       "      <td>TWLO</td>\n",
       "      <td>60.9679</td>\n",
       "    </tr>\n",
       "    <tr>\n",
       "      <th>702</th>\n",
       "      <td>IIPR</td>\n",
       "      <td>41.8878</td>\n",
       "    </tr>\n",
       "  </tbody>\n",
       "</table>\n",
       "</div>"
      ],
      "text/plain": [
       "     Stock Coefficient\n",
       "418    DOW     115.407\n",
       "1133  RETA     82.5067\n",
       "1347   TTD      72.862\n",
       "1354  TWLO     60.9679\n",
       "702   IIPR     41.8878"
      ]
     },
     "execution_count": 139,
     "metadata": {},
     "output_type": "execute_result"
    },
    {
     "data": {
      "image/png": "[encoded data removed]",
      "text/plain": [
       "<Figure size 432x288 with 1 Axes>"
      ]
     },
     "metadata": {},
     "output_type": "display_data"
    }
   ],
   "source": [
    "# Get top five stocks from the stock list\n",
    "get_top_stock(coefficient_data, n = 5)"
   ]
  },
  {
   "cell_type": "markdown",
   "metadata": {},
   "source": [
    "# Result 3: Similar five stocks for input symbol 'AMZN'"
   ]
  },
  {
   "cell_type": "code",
   "execution_count": 140,
   "metadata": {},
   "outputs": [
    {
     "name": "stdout",
     "output_type": "stream",
     "text": [
      "The 5 simialr stocks are: \n",
      "['BCE', 'CEO', 'EOLS', 'FLT', 'DGZ']\n"
     ]
    },
    {
     "data": {
      "image/png": "[encoded data removed]",
      "text/plain": [
       "<Figure size 432x288 with 1 Axes>"
      ]
     },
     "metadata": {},
     "output_type": "display_data"
    }
   ],
   "source": [
    "# Get similar five stocks from the stock list, using 'AMZN' as example\n",
    "# Change it to any input stock symbol\n",
    "symbol_test = 'AMZN'\n",
    "top = get_similar_stock(coefficient_data, symbol_test)"
   ]
  },
  {
   "cell_type": "code",
   "execution_count": null,
   "metadata": {},
   "outputs": [],
   "source": []
  }
 ],
 "metadata": {
  "kernelspec": {
   "display_name": "Python 3",
   "language": "python",
   "name": "python3"
  },
  "language_info": {
   "codemirror_mode": {
    "name": "ipython",
    "version": 3
   },
   "file_extension": ".py",
   "mimetype": "text/x-python",
   "name": "python",
   "nbconvert_exporter": "python",
   "pygments_lexer": "ipython3",
   "version": "3.6.8"
  }
 },
 "nbformat": 4,
 "nbformat_minor": 2
}
